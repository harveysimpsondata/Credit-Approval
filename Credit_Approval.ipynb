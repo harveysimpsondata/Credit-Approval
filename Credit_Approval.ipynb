{
 "cells": [
  {
   "cell_type": "markdown",
   "source": [
    "# DATA IMPUTATION\n",
    "UCI:        https://archive.ics.uci.edu/ml/datasets/credit+approval"
   ],
   "metadata": {
    "collapsed": false
   }
  },
  {
   "cell_type": "code",
   "execution_count": 56,
   "metadata": {
    "collapsed": true
   },
   "outputs": [],
   "source": [
    "import warnings\n",
    "import pandas as pd\n",
    "import numpy as np\n",
    "\n",
    "from sklearn import preprocessing\n",
    "from sklearn.preprocessing import MinMaxScaler\n",
    "from sklearn.model_selection import train_test_split\n",
    "from sklearn.compose import make_column_transformer\n",
    "from sklearn.preprocessing import OneHotEncoder\n",
    "from sklearn.pipeline import make_pipeline\n",
    "from sklearn.model_selection import KFold\n",
    "\n",
    "from sklearn.neighbors import KNeighborsClassifier\n",
    "from sklearn.linear_model import LogisticRegression,Ridge\n",
    "from sklearn import svm as Svm\n",
    "\n",
    "from sklearn.metrics import r2_score\n",
    "from sklearn.model_selection import cross_val_score\n",
    "from sklearn import metrics\n",
    "\n",
    "import seaborn as sns\n",
    "warnings.filterwarnings('ignore')"
   ]
  },
  {
   "cell_type": "code",
   "execution_count": 57,
   "outputs": [
    {
     "name": "stdout",
     "output_type": "stream",
     "text": [
      "\n",
      "1. Title: Credit Approval\n",
      "\n",
      "2. Sources: \n",
      "    (confidential)\n",
      "    Submitted by quinlan@cs.su.oz.au\n",
      "\n",
      "3.  Past Usage:\n",
      "\n",
      "    See Quinlan,\n",
      "    * \"Simplifying decision trees\", Int J Man-Machine Studies 27,\n",
      "      Dec 1987, pp. 221-234.\n",
      "    * \"C4.5: Programs for Machine Learning\", Morgan Kaufmann, Oct 1992\n",
      "  \n",
      "4.  Relevant Information:\n",
      "\n",
      "    This file concerns credit card applications.  All attribute names\n",
      "    and values have been changed to meaningless symbols to protect\n",
      "    confidentiality of the data.\n",
      "  \n",
      "    This dataset is interesting because there is a good mix of\n",
      "    attributes -- continuous, nominal with small numbers of\n",
      "    values, and nominal with larger numbers of values.  There\n",
      "    are also a few missing values.\n",
      "  \n",
      "5.  Number of Instances: 690\n",
      "\n",
      "6.  Number of Attributes: 15 + class attribute\n",
      "\n",
      "7.  Attribute Information:\n",
      "\n",
      "    A1:\tb, a.\n",
      "    A2:\tcontinuous.\n",
      "    A3:\tcontinuous.\n",
      "    A4:\tu, y, l, t.\n",
      "    A5:\tg, p, gg.\n",
      "    A6:\tc, d, cc, i, j, k, m, r, q, w, x, e, aa, ff.\n",
      "    A7:\tv, h, bb, j, n, z, dd, ff, o.\n",
      "    A8:\tcontinuous.\n",
      "    A9:\tt, f.\n",
      "    A10:\tt, f.\n",
      "    A11:\tcontinuous.\n",
      "    A12:\tt, f.\n",
      "    A13:\tg, p, s.\n",
      "    A14:\tcontinuous.\n",
      "    A15:\tcontinuous.\n",
      "    A16: +,-         (class attribute)\n",
      "\n",
      "8.  Missing Attribute Values:\n",
      "    37 cases (5%) have one or more missing values.  The missing\n",
      "    values from particular attributes are:\n",
      "\n",
      "    A1:  12\n",
      "    A2:  12\n",
      "    A4:   6\n",
      "    A5:   6\n",
      "    A6:   9\n",
      "    A7:   9\n",
      "    A14: 13\n",
      "\n",
      "9.  Class Distribution\n",
      "  \n",
      "    +: 307 (44.5%)\n",
      "    -: 383 (55.5%)\n",
      "\n",
      "\n"
     ]
    }
   ],
   "source": [
    "with open('crx.names') as names:\n",
    "    print(names.read())"
   ],
   "metadata": {
    "collapsed": false
   }
  },
  {
   "cell_type": "code",
   "execution_count": 58,
   "outputs": [],
   "source": [
    "df = pd.read_table('crx.data',sep=',',header=None)\n",
    "df.columns = ['Gender','Age','Debt','Married','Bank_Customer','Education_Level','Ethnicity','Years_Employed','Prior_Default','Employed','Credit_Score','Drivers_License','Citizen','Zip_Code','Income','Approved']\n",
    "\n",
    "#Delete irrelevant columns\n",
    "del df['Drivers_License']\n",
    "del df['Zip_Code']"
   ],
   "metadata": {
    "collapsed": false
   }
  },
  {
   "cell_type": "markdown",
   "source": [
    "## Train Test Set for Imputation\n",
    "\n",
    "This dataframe will drop all rows with **?** symbol and use Logistic and Linear Regression models to predict multiple targets. The targets (different columns with **?** symbol) include:\n",
    "* Gender (categorical)\n",
    "* Age (numerical)\n",
    "* Married (categorical)\n",
    "* Bank Customer (categorical)\n",
    "* Education Level (categorical)\n",
    "* Ethnicity (categorical)\n",
    "\n",
    "Due to constraints in the dataset, the categories I chose to use imputation methods were Age and Gender."
   ],
   "metadata": {
    "collapsed": false
   }
  },
  {
   "cell_type": "code",
   "execution_count": 59,
   "outputs": [
    {
     "data": {
      "text/plain": "    Gender    Age    Debt Married Bank_Customer Education_Level Ethnicity  \\\n83       a      ?   3.500       u             g               d         v   \n86       b      ?   0.375       u             g               d         v   \n92       b      ?   5.000       y             p              aa         v   \n97       b      ?   0.500       u             g               c        bb   \n206      a  71.58   0.000       ?             ?               ?         ?   \n248      ?  24.50  12.750       u             g               c        bb   \n254      b      ?   0.625       u             g               k         v   \n270      b  37.58   0.000       ?             ?               ?         ?   \n286      a      ?   1.500       u             g              ff        ff   \n327      ?  40.83   3.500       u             g               i        bb   \n329      b      ?   4.000       y             p               i         v   \n330      b  20.42   0.000       ?             ?               ?         ?   \n346      ?  32.25   1.500       u             g               c         v   \n374      ?  28.17   0.585       u             g              aa         v   \n445      a      ?  11.250       u             g              ff        ff   \n450      b      ?   3.000       y             p               i        bb   \n453      ?  29.75   0.665       u             g               w         v   \n456      b  34.58   0.000       ?             ?               ?         ?   \n479      ?  26.50   2.710       y             p               ?         ?   \n489      ?  45.33   1.000       u             g               q         v   \n500      b      ?   4.000       u             g               x         v   \n515      b      ?  10.500       u             g               x         v   \n520      ?  20.42   7.500       u             g               k         v   \n539      b  80.25   5.500       u             g               ?         ?   \n592      b  23.17   0.000       ?             ?               ?         ?   \n598      ?  20.08   0.125       u             g               q         v   \n601      ?  42.25   1.750       y             p               ?         ?   \n608      b      ?   0.040       y             p               d         v   \n622      a  25.58   0.000       ?             ?               ?         ?   \n641      ?  33.17   2.250       y             p              cc         v   \n673      ?  29.50   2.000       y             p               e         h   \n\n     Years_Employed Prior_Default Employed  Credit_Score Citizen  Income  \\\n83            3.000             t        f             0       g       0   \n86            0.875             t        f             0       s       0   \n92            8.500             t        f             0       g       0   \n97            0.835             t        f             0       s       0   \n206           0.000             f        f             0       p       0   \n248           4.750             t        t             2       g     444   \n254           0.250             f        f             0       g    2010   \n270           0.000             f        f             0       p       0   \n286           0.000             f        t             2       g     105   \n327           0.500             f        f             0       s       0   \n329           0.085             f        f             0       g       0   \n330           0.000             f        f             0       p       0   \n346           0.250             f        f             0       g     122   \n374           0.040             f        f             0       g    1004   \n445           0.000             f        f             0       g    5200   \n450           7.000             f        f             0       g       1   \n453           0.250             f        f             0       g       0   \n456           0.000             f        f             0       p       0   \n479           0.085             f        f             0       s       0   \n489           0.125             f        f             0       g       0   \n500           5.000             t        t             3       g    2279   \n515           6.500             t        f             0       g       0   \n520           1.500             t        t             1       g     234   \n539           0.540             t        f             0       g     340   \n592           0.000             f        f             0       p       0   \n598           1.000             f        t             1       g     768   \n601           0.000             f        f             0       g       1   \n608           4.250             f        f             0       g       0   \n622           0.000             f        f             0       p       0   \n641           3.500             f        f             0       g     141   \n673           2.000             f        f             0       g      17   \n\n    Approved  sum_?  \n83         -      1  \n86         -      1  \n92         -      1  \n97         -      1  \n206        +      4  \n248        +      1  \n254        -      1  \n270        +      4  \n286        -      1  \n327        -      1  \n329        -      1  \n330        -      4  \n346        -      1  \n374        -      1  \n445        -      1  \n450        -      1  \n453        -      1  \n456        -      4  \n479        -      3  \n489        -      1  \n500        +      1  \n515        +      1  \n520        +      1  \n539        -      2  \n592        +      4  \n598        +      1  \n601        -      3  \n608        -      1  \n622        +      4  \n641        -      1  \n673        -      1  ",
      "text/html": "<div>\n<style scoped>\n    .dataframe tbody tr th:only-of-type {\n        vertical-align: middle;\n    }\n\n    .dataframe tbody tr th {\n        vertical-align: top;\n    }\n\n    .dataframe thead th {\n        text-align: right;\n    }\n</style>\n<table border=\"1\" class=\"dataframe\">\n  <thead>\n    <tr style=\"text-align: right;\">\n      <th></th>\n      <th>Gender</th>\n      <th>Age</th>\n      <th>Debt</th>\n      <th>Married</th>\n      <th>Bank_Customer</th>\n      <th>Education_Level</th>\n      <th>Ethnicity</th>\n      <th>Years_Employed</th>\n      <th>Prior_Default</th>\n      <th>Employed</th>\n      <th>Credit_Score</th>\n      <th>Citizen</th>\n      <th>Income</th>\n      <th>Approved</th>\n      <th>sum_?</th>\n    </tr>\n  </thead>\n  <tbody>\n    <tr>\n      <th>83</th>\n      <td>a</td>\n      <td>?</td>\n      <td>3.500</td>\n      <td>u</td>\n      <td>g</td>\n      <td>d</td>\n      <td>v</td>\n      <td>3.000</td>\n      <td>t</td>\n      <td>f</td>\n      <td>0</td>\n      <td>g</td>\n      <td>0</td>\n      <td>-</td>\n      <td>1</td>\n    </tr>\n    <tr>\n      <th>86</th>\n      <td>b</td>\n      <td>?</td>\n      <td>0.375</td>\n      <td>u</td>\n      <td>g</td>\n      <td>d</td>\n      <td>v</td>\n      <td>0.875</td>\n      <td>t</td>\n      <td>f</td>\n      <td>0</td>\n      <td>s</td>\n      <td>0</td>\n      <td>-</td>\n      <td>1</td>\n    </tr>\n    <tr>\n      <th>92</th>\n      <td>b</td>\n      <td>?</td>\n      <td>5.000</td>\n      <td>y</td>\n      <td>p</td>\n      <td>aa</td>\n      <td>v</td>\n      <td>8.500</td>\n      <td>t</td>\n      <td>f</td>\n      <td>0</td>\n      <td>g</td>\n      <td>0</td>\n      <td>-</td>\n      <td>1</td>\n    </tr>\n    <tr>\n      <th>97</th>\n      <td>b</td>\n      <td>?</td>\n      <td>0.500</td>\n      <td>u</td>\n      <td>g</td>\n      <td>c</td>\n      <td>bb</td>\n      <td>0.835</td>\n      <td>t</td>\n      <td>f</td>\n      <td>0</td>\n      <td>s</td>\n      <td>0</td>\n      <td>-</td>\n      <td>1</td>\n    </tr>\n    <tr>\n      <th>206</th>\n      <td>a</td>\n      <td>71.58</td>\n      <td>0.000</td>\n      <td>?</td>\n      <td>?</td>\n      <td>?</td>\n      <td>?</td>\n      <td>0.000</td>\n      <td>f</td>\n      <td>f</td>\n      <td>0</td>\n      <td>p</td>\n      <td>0</td>\n      <td>+</td>\n      <td>4</td>\n    </tr>\n    <tr>\n      <th>248</th>\n      <td>?</td>\n      <td>24.50</td>\n      <td>12.750</td>\n      <td>u</td>\n      <td>g</td>\n      <td>c</td>\n      <td>bb</td>\n      <td>4.750</td>\n      <td>t</td>\n      <td>t</td>\n      <td>2</td>\n      <td>g</td>\n      <td>444</td>\n      <td>+</td>\n      <td>1</td>\n    </tr>\n    <tr>\n      <th>254</th>\n      <td>b</td>\n      <td>?</td>\n      <td>0.625</td>\n      <td>u</td>\n      <td>g</td>\n      <td>k</td>\n      <td>v</td>\n      <td>0.250</td>\n      <td>f</td>\n      <td>f</td>\n      <td>0</td>\n      <td>g</td>\n      <td>2010</td>\n      <td>-</td>\n      <td>1</td>\n    </tr>\n    <tr>\n      <th>270</th>\n      <td>b</td>\n      <td>37.58</td>\n      <td>0.000</td>\n      <td>?</td>\n      <td>?</td>\n      <td>?</td>\n      <td>?</td>\n      <td>0.000</td>\n      <td>f</td>\n      <td>f</td>\n      <td>0</td>\n      <td>p</td>\n      <td>0</td>\n      <td>+</td>\n      <td>4</td>\n    </tr>\n    <tr>\n      <th>286</th>\n      <td>a</td>\n      <td>?</td>\n      <td>1.500</td>\n      <td>u</td>\n      <td>g</td>\n      <td>ff</td>\n      <td>ff</td>\n      <td>0.000</td>\n      <td>f</td>\n      <td>t</td>\n      <td>2</td>\n      <td>g</td>\n      <td>105</td>\n      <td>-</td>\n      <td>1</td>\n    </tr>\n    <tr>\n      <th>327</th>\n      <td>?</td>\n      <td>40.83</td>\n      <td>3.500</td>\n      <td>u</td>\n      <td>g</td>\n      <td>i</td>\n      <td>bb</td>\n      <td>0.500</td>\n      <td>f</td>\n      <td>f</td>\n      <td>0</td>\n      <td>s</td>\n      <td>0</td>\n      <td>-</td>\n      <td>1</td>\n    </tr>\n    <tr>\n      <th>329</th>\n      <td>b</td>\n      <td>?</td>\n      <td>4.000</td>\n      <td>y</td>\n      <td>p</td>\n      <td>i</td>\n      <td>v</td>\n      <td>0.085</td>\n      <td>f</td>\n      <td>f</td>\n      <td>0</td>\n      <td>g</td>\n      <td>0</td>\n      <td>-</td>\n      <td>1</td>\n    </tr>\n    <tr>\n      <th>330</th>\n      <td>b</td>\n      <td>20.42</td>\n      <td>0.000</td>\n      <td>?</td>\n      <td>?</td>\n      <td>?</td>\n      <td>?</td>\n      <td>0.000</td>\n      <td>f</td>\n      <td>f</td>\n      <td>0</td>\n      <td>p</td>\n      <td>0</td>\n      <td>-</td>\n      <td>4</td>\n    </tr>\n    <tr>\n      <th>346</th>\n      <td>?</td>\n      <td>32.25</td>\n      <td>1.500</td>\n      <td>u</td>\n      <td>g</td>\n      <td>c</td>\n      <td>v</td>\n      <td>0.250</td>\n      <td>f</td>\n      <td>f</td>\n      <td>0</td>\n      <td>g</td>\n      <td>122</td>\n      <td>-</td>\n      <td>1</td>\n    </tr>\n    <tr>\n      <th>374</th>\n      <td>?</td>\n      <td>28.17</td>\n      <td>0.585</td>\n      <td>u</td>\n      <td>g</td>\n      <td>aa</td>\n      <td>v</td>\n      <td>0.040</td>\n      <td>f</td>\n      <td>f</td>\n      <td>0</td>\n      <td>g</td>\n      <td>1004</td>\n      <td>-</td>\n      <td>1</td>\n    </tr>\n    <tr>\n      <th>445</th>\n      <td>a</td>\n      <td>?</td>\n      <td>11.250</td>\n      <td>u</td>\n      <td>g</td>\n      <td>ff</td>\n      <td>ff</td>\n      <td>0.000</td>\n      <td>f</td>\n      <td>f</td>\n      <td>0</td>\n      <td>g</td>\n      <td>5200</td>\n      <td>-</td>\n      <td>1</td>\n    </tr>\n    <tr>\n      <th>450</th>\n      <td>b</td>\n      <td>?</td>\n      <td>3.000</td>\n      <td>y</td>\n      <td>p</td>\n      <td>i</td>\n      <td>bb</td>\n      <td>7.000</td>\n      <td>f</td>\n      <td>f</td>\n      <td>0</td>\n      <td>g</td>\n      <td>1</td>\n      <td>-</td>\n      <td>1</td>\n    </tr>\n    <tr>\n      <th>453</th>\n      <td>?</td>\n      <td>29.75</td>\n      <td>0.665</td>\n      <td>u</td>\n      <td>g</td>\n      <td>w</td>\n      <td>v</td>\n      <td>0.250</td>\n      <td>f</td>\n      <td>f</td>\n      <td>0</td>\n      <td>g</td>\n      <td>0</td>\n      <td>-</td>\n      <td>1</td>\n    </tr>\n    <tr>\n      <th>456</th>\n      <td>b</td>\n      <td>34.58</td>\n      <td>0.000</td>\n      <td>?</td>\n      <td>?</td>\n      <td>?</td>\n      <td>?</td>\n      <td>0.000</td>\n      <td>f</td>\n      <td>f</td>\n      <td>0</td>\n      <td>p</td>\n      <td>0</td>\n      <td>-</td>\n      <td>4</td>\n    </tr>\n    <tr>\n      <th>479</th>\n      <td>?</td>\n      <td>26.50</td>\n      <td>2.710</td>\n      <td>y</td>\n      <td>p</td>\n      <td>?</td>\n      <td>?</td>\n      <td>0.085</td>\n      <td>f</td>\n      <td>f</td>\n      <td>0</td>\n      <td>s</td>\n      <td>0</td>\n      <td>-</td>\n      <td>3</td>\n    </tr>\n    <tr>\n      <th>489</th>\n      <td>?</td>\n      <td>45.33</td>\n      <td>1.000</td>\n      <td>u</td>\n      <td>g</td>\n      <td>q</td>\n      <td>v</td>\n      <td>0.125</td>\n      <td>f</td>\n      <td>f</td>\n      <td>0</td>\n      <td>g</td>\n      <td>0</td>\n      <td>-</td>\n      <td>1</td>\n    </tr>\n    <tr>\n      <th>500</th>\n      <td>b</td>\n      <td>?</td>\n      <td>4.000</td>\n      <td>u</td>\n      <td>g</td>\n      <td>x</td>\n      <td>v</td>\n      <td>5.000</td>\n      <td>t</td>\n      <td>t</td>\n      <td>3</td>\n      <td>g</td>\n      <td>2279</td>\n      <td>+</td>\n      <td>1</td>\n    </tr>\n    <tr>\n      <th>515</th>\n      <td>b</td>\n      <td>?</td>\n      <td>10.500</td>\n      <td>u</td>\n      <td>g</td>\n      <td>x</td>\n      <td>v</td>\n      <td>6.500</td>\n      <td>t</td>\n      <td>f</td>\n      <td>0</td>\n      <td>g</td>\n      <td>0</td>\n      <td>+</td>\n      <td>1</td>\n    </tr>\n    <tr>\n      <th>520</th>\n      <td>?</td>\n      <td>20.42</td>\n      <td>7.500</td>\n      <td>u</td>\n      <td>g</td>\n      <td>k</td>\n      <td>v</td>\n      <td>1.500</td>\n      <td>t</td>\n      <td>t</td>\n      <td>1</td>\n      <td>g</td>\n      <td>234</td>\n      <td>+</td>\n      <td>1</td>\n    </tr>\n    <tr>\n      <th>539</th>\n      <td>b</td>\n      <td>80.25</td>\n      <td>5.500</td>\n      <td>u</td>\n      <td>g</td>\n      <td>?</td>\n      <td>?</td>\n      <td>0.540</td>\n      <td>t</td>\n      <td>f</td>\n      <td>0</td>\n      <td>g</td>\n      <td>340</td>\n      <td>-</td>\n      <td>2</td>\n    </tr>\n    <tr>\n      <th>592</th>\n      <td>b</td>\n      <td>23.17</td>\n      <td>0.000</td>\n      <td>?</td>\n      <td>?</td>\n      <td>?</td>\n      <td>?</td>\n      <td>0.000</td>\n      <td>f</td>\n      <td>f</td>\n      <td>0</td>\n      <td>p</td>\n      <td>0</td>\n      <td>+</td>\n      <td>4</td>\n    </tr>\n    <tr>\n      <th>598</th>\n      <td>?</td>\n      <td>20.08</td>\n      <td>0.125</td>\n      <td>u</td>\n      <td>g</td>\n      <td>q</td>\n      <td>v</td>\n      <td>1.000</td>\n      <td>f</td>\n      <td>t</td>\n      <td>1</td>\n      <td>g</td>\n      <td>768</td>\n      <td>+</td>\n      <td>1</td>\n    </tr>\n    <tr>\n      <th>601</th>\n      <td>?</td>\n      <td>42.25</td>\n      <td>1.750</td>\n      <td>y</td>\n      <td>p</td>\n      <td>?</td>\n      <td>?</td>\n      <td>0.000</td>\n      <td>f</td>\n      <td>f</td>\n      <td>0</td>\n      <td>g</td>\n      <td>1</td>\n      <td>-</td>\n      <td>3</td>\n    </tr>\n    <tr>\n      <th>608</th>\n      <td>b</td>\n      <td>?</td>\n      <td>0.040</td>\n      <td>y</td>\n      <td>p</td>\n      <td>d</td>\n      <td>v</td>\n      <td>4.250</td>\n      <td>f</td>\n      <td>f</td>\n      <td>0</td>\n      <td>g</td>\n      <td>0</td>\n      <td>-</td>\n      <td>1</td>\n    </tr>\n    <tr>\n      <th>622</th>\n      <td>a</td>\n      <td>25.58</td>\n      <td>0.000</td>\n      <td>?</td>\n      <td>?</td>\n      <td>?</td>\n      <td>?</td>\n      <td>0.000</td>\n      <td>f</td>\n      <td>f</td>\n      <td>0</td>\n      <td>p</td>\n      <td>0</td>\n      <td>+</td>\n      <td>4</td>\n    </tr>\n    <tr>\n      <th>641</th>\n      <td>?</td>\n      <td>33.17</td>\n      <td>2.250</td>\n      <td>y</td>\n      <td>p</td>\n      <td>cc</td>\n      <td>v</td>\n      <td>3.500</td>\n      <td>f</td>\n      <td>f</td>\n      <td>0</td>\n      <td>g</td>\n      <td>141</td>\n      <td>-</td>\n      <td>1</td>\n    </tr>\n    <tr>\n      <th>673</th>\n      <td>?</td>\n      <td>29.50</td>\n      <td>2.000</td>\n      <td>y</td>\n      <td>p</td>\n      <td>e</td>\n      <td>h</td>\n      <td>2.000</td>\n      <td>f</td>\n      <td>f</td>\n      <td>0</td>\n      <td>g</td>\n      <td>17</td>\n      <td>-</td>\n      <td>1</td>\n    </tr>\n  </tbody>\n</table>\n</div>"
     },
     "execution_count": 59,
     "metadata": {},
     "output_type": "execute_result"
    }
   ],
   "source": [
    "df_Missing_Values_All=df[df.isin(['?']).any(axis=1)]\n",
    "df_Missing_Values_All['sum_?'] = (df_Missing_Values_All == '?').sum(axis=1)\n",
    "\n",
    "df_Missing_Values_All"
   ],
   "metadata": {
    "collapsed": false
   }
  },
  {
   "cell_type": "markdown",
   "source": [
    "### Feature Scaling using Normalization"
   ],
   "metadata": {
    "collapsed": false
   }
  },
  {
   "cell_type": "code",
   "execution_count": 60,
   "outputs": [
    {
     "data": {
      "text/plain": "    Gender       Age      Debt Married Bank_Customer Education_Level  \\\n0        b  0.271111  0.000000       u             g               w   \n1        a  0.713016  0.159286       u             g               q   \n2        a  0.170635  0.017857       u             g               q   \n3        b  0.223492  0.055000       u             g               w   \n4        b  0.101905  0.200893       u             g               w   \n..     ...       ...       ...     ...           ...             ...   \n685      b  0.116349  0.360179       y             p               e   \n686      a  0.141587  0.026786       u             g               c   \n687      a  0.182540  0.482143       y             p              ff   \n688      b  0.066190  0.007321       u             g              aa   \n689      b  0.337302  0.120536       u             g               c   \n\n    Ethnicity  Years_Employed Prior_Default Employed  Credit_Score Citizen  \\\n0           v        0.043860             t        t             1       g   \n1           h        0.106667             t        t             6       g   \n2           h        0.052632             t        f             0       g   \n3           v        0.131579             t        t             5       g   \n4           v        0.060000             t        f             0       s   \n..        ...             ...           ...      ...           ...     ...   \n685         h        0.043860             f        f             0       g   \n686         v        0.070175             f        t             2       g   \n687        ff        0.070175             f        t             1       g   \n688         v        0.001404             f        f             0       g   \n689         h        0.290877             f        f             0       g   \n\n      Income Approved  \n0    0.00000        +  \n1    0.00560        +  \n2    0.00824        +  \n3    0.00003        +  \n4    0.00000        +  \n..       ...      ...  \n685  0.00000        -  \n686  0.00394        -  \n687  0.00001        -  \n688  0.00750        -  \n689  0.00000        -  \n\n[681 rows x 14 columns]",
      "text/html": "<div>\n<style scoped>\n    .dataframe tbody tr th:only-of-type {\n        vertical-align: middle;\n    }\n\n    .dataframe tbody tr th {\n        vertical-align: top;\n    }\n\n    .dataframe thead th {\n        text-align: right;\n    }\n</style>\n<table border=\"1\" class=\"dataframe\">\n  <thead>\n    <tr style=\"text-align: right;\">\n      <th></th>\n      <th>Gender</th>\n      <th>Age</th>\n      <th>Debt</th>\n      <th>Married</th>\n      <th>Bank_Customer</th>\n      <th>Education_Level</th>\n      <th>Ethnicity</th>\n      <th>Years_Employed</th>\n      <th>Prior_Default</th>\n      <th>Employed</th>\n      <th>Credit_Score</th>\n      <th>Citizen</th>\n      <th>Income</th>\n      <th>Approved</th>\n    </tr>\n  </thead>\n  <tbody>\n    <tr>\n      <th>0</th>\n      <td>b</td>\n      <td>0.271111</td>\n      <td>0.000000</td>\n      <td>u</td>\n      <td>g</td>\n      <td>w</td>\n      <td>v</td>\n      <td>0.043860</td>\n      <td>t</td>\n      <td>t</td>\n      <td>1</td>\n      <td>g</td>\n      <td>0.00000</td>\n      <td>+</td>\n    </tr>\n    <tr>\n      <th>1</th>\n      <td>a</td>\n      <td>0.713016</td>\n      <td>0.159286</td>\n      <td>u</td>\n      <td>g</td>\n      <td>q</td>\n      <td>h</td>\n      <td>0.106667</td>\n      <td>t</td>\n      <td>t</td>\n      <td>6</td>\n      <td>g</td>\n      <td>0.00560</td>\n      <td>+</td>\n    </tr>\n    <tr>\n      <th>2</th>\n      <td>a</td>\n      <td>0.170635</td>\n      <td>0.017857</td>\n      <td>u</td>\n      <td>g</td>\n      <td>q</td>\n      <td>h</td>\n      <td>0.052632</td>\n      <td>t</td>\n      <td>f</td>\n      <td>0</td>\n      <td>g</td>\n      <td>0.00824</td>\n      <td>+</td>\n    </tr>\n    <tr>\n      <th>3</th>\n      <td>b</td>\n      <td>0.223492</td>\n      <td>0.055000</td>\n      <td>u</td>\n      <td>g</td>\n      <td>w</td>\n      <td>v</td>\n      <td>0.131579</td>\n      <td>t</td>\n      <td>t</td>\n      <td>5</td>\n      <td>g</td>\n      <td>0.00003</td>\n      <td>+</td>\n    </tr>\n    <tr>\n      <th>4</th>\n      <td>b</td>\n      <td>0.101905</td>\n      <td>0.200893</td>\n      <td>u</td>\n      <td>g</td>\n      <td>w</td>\n      <td>v</td>\n      <td>0.060000</td>\n      <td>t</td>\n      <td>f</td>\n      <td>0</td>\n      <td>s</td>\n      <td>0.00000</td>\n      <td>+</td>\n    </tr>\n    <tr>\n      <th>...</th>\n      <td>...</td>\n      <td>...</td>\n      <td>...</td>\n      <td>...</td>\n      <td>...</td>\n      <td>...</td>\n      <td>...</td>\n      <td>...</td>\n      <td>...</td>\n      <td>...</td>\n      <td>...</td>\n      <td>...</td>\n      <td>...</td>\n      <td>...</td>\n    </tr>\n    <tr>\n      <th>685</th>\n      <td>b</td>\n      <td>0.116349</td>\n      <td>0.360179</td>\n      <td>y</td>\n      <td>p</td>\n      <td>e</td>\n      <td>h</td>\n      <td>0.043860</td>\n      <td>f</td>\n      <td>f</td>\n      <td>0</td>\n      <td>g</td>\n      <td>0.00000</td>\n      <td>-</td>\n    </tr>\n    <tr>\n      <th>686</th>\n      <td>a</td>\n      <td>0.141587</td>\n      <td>0.026786</td>\n      <td>u</td>\n      <td>g</td>\n      <td>c</td>\n      <td>v</td>\n      <td>0.070175</td>\n      <td>f</td>\n      <td>t</td>\n      <td>2</td>\n      <td>g</td>\n      <td>0.00394</td>\n      <td>-</td>\n    </tr>\n    <tr>\n      <th>687</th>\n      <td>a</td>\n      <td>0.182540</td>\n      <td>0.482143</td>\n      <td>y</td>\n      <td>p</td>\n      <td>ff</td>\n      <td>ff</td>\n      <td>0.070175</td>\n      <td>f</td>\n      <td>t</td>\n      <td>1</td>\n      <td>g</td>\n      <td>0.00001</td>\n      <td>-</td>\n    </tr>\n    <tr>\n      <th>688</th>\n      <td>b</td>\n      <td>0.066190</td>\n      <td>0.007321</td>\n      <td>u</td>\n      <td>g</td>\n      <td>aa</td>\n      <td>v</td>\n      <td>0.001404</td>\n      <td>f</td>\n      <td>f</td>\n      <td>0</td>\n      <td>g</td>\n      <td>0.00750</td>\n      <td>-</td>\n    </tr>\n    <tr>\n      <th>689</th>\n      <td>b</td>\n      <td>0.337302</td>\n      <td>0.120536</td>\n      <td>u</td>\n      <td>g</td>\n      <td>c</td>\n      <td>h</td>\n      <td>0.290877</td>\n      <td>f</td>\n      <td>f</td>\n      <td>0</td>\n      <td>g</td>\n      <td>0.00000</td>\n      <td>-</td>\n    </tr>\n  </tbody>\n</table>\n<p>681 rows × 14 columns</p>\n</div>"
     },
     "execution_count": 60,
     "metadata": {},
     "output_type": "execute_result"
    }
   ],
   "source": [
    "rows_to_drop = list(df_Missing_Values_All[df_Missing_Values_All['sum_?']>1].index)\n",
    "rows_to_test = list(df_Missing_Values_All[df_Missing_Values_All['sum_?']==1].index)\n",
    "\n",
    "df = df.drop(rows_to_drop)\n",
    "df = df.replace('?', np.nan)\n",
    "MMS = MinMaxScaler()\n",
    "df[['Age','Debt','Years_Employed','Income']] = MMS.fit_transform(df[['Age','Debt','Years_Employed','Income']])\n",
    "df"
   ],
   "metadata": {
    "collapsed": false
   }
  },
  {
   "cell_type": "code",
   "execution_count": 61,
   "outputs": [
    {
     "data": {
      "text/plain": "    Gender       Age      Debt Married Bank_Customer Education_Level  \\\n0        b  0.271111  0.000000       u             g               w   \n1        a  0.713016  0.159286       u             g               q   \n2        a  0.170635  0.017857       u             g               q   \n3        b  0.223492  0.055000       u             g               w   \n4        b  0.101905  0.200893       u             g               w   \n..     ...       ...       ...     ...           ...             ...   \n685      b  0.116349  0.360179       y             p               e   \n686      a  0.141587  0.026786       u             g               c   \n687      a  0.182540  0.482143       y             p              ff   \n688      b  0.066190  0.007321       u             g              aa   \n689      b  0.337302  0.120536       u             g               c   \n\n    Ethnicity  Years_Employed Prior_Default Employed  Credit_Score Citizen  \\\n0           v        0.043860             t        t             1       g   \n1           h        0.106667             t        t             6       g   \n2           h        0.052632             t        f             0       g   \n3           v        0.131579             t        t             5       g   \n4           v        0.060000             t        f             0       s   \n..        ...             ...           ...      ...           ...     ...   \n685         h        0.043860             f        f             0       g   \n686         v        0.070175             f        t             2       g   \n687        ff        0.070175             f        t             1       g   \n688         v        0.001404             f        f             0       g   \n689         h        0.290877             f        f             0       g   \n\n      Income Approved  \n0    0.00000        +  \n1    0.00560        +  \n2    0.00824        +  \n3    0.00003        +  \n4    0.00000        +  \n..       ...      ...  \n685  0.00000        -  \n686  0.00394        -  \n687  0.00001        -  \n688  0.00750        -  \n689  0.00000        -  \n\n[659 rows x 14 columns]",
      "text/html": "<div>\n<style scoped>\n    .dataframe tbody tr th:only-of-type {\n        vertical-align: middle;\n    }\n\n    .dataframe tbody tr th {\n        vertical-align: top;\n    }\n\n    .dataframe thead th {\n        text-align: right;\n    }\n</style>\n<table border=\"1\" class=\"dataframe\">\n  <thead>\n    <tr style=\"text-align: right;\">\n      <th></th>\n      <th>Gender</th>\n      <th>Age</th>\n      <th>Debt</th>\n      <th>Married</th>\n      <th>Bank_Customer</th>\n      <th>Education_Level</th>\n      <th>Ethnicity</th>\n      <th>Years_Employed</th>\n      <th>Prior_Default</th>\n      <th>Employed</th>\n      <th>Credit_Score</th>\n      <th>Citizen</th>\n      <th>Income</th>\n      <th>Approved</th>\n    </tr>\n  </thead>\n  <tbody>\n    <tr>\n      <th>0</th>\n      <td>b</td>\n      <td>0.271111</td>\n      <td>0.000000</td>\n      <td>u</td>\n      <td>g</td>\n      <td>w</td>\n      <td>v</td>\n      <td>0.043860</td>\n      <td>t</td>\n      <td>t</td>\n      <td>1</td>\n      <td>g</td>\n      <td>0.00000</td>\n      <td>+</td>\n    </tr>\n    <tr>\n      <th>1</th>\n      <td>a</td>\n      <td>0.713016</td>\n      <td>0.159286</td>\n      <td>u</td>\n      <td>g</td>\n      <td>q</td>\n      <td>h</td>\n      <td>0.106667</td>\n      <td>t</td>\n      <td>t</td>\n      <td>6</td>\n      <td>g</td>\n      <td>0.00560</td>\n      <td>+</td>\n    </tr>\n    <tr>\n      <th>2</th>\n      <td>a</td>\n      <td>0.170635</td>\n      <td>0.017857</td>\n      <td>u</td>\n      <td>g</td>\n      <td>q</td>\n      <td>h</td>\n      <td>0.052632</td>\n      <td>t</td>\n      <td>f</td>\n      <td>0</td>\n      <td>g</td>\n      <td>0.00824</td>\n      <td>+</td>\n    </tr>\n    <tr>\n      <th>3</th>\n      <td>b</td>\n      <td>0.223492</td>\n      <td>0.055000</td>\n      <td>u</td>\n      <td>g</td>\n      <td>w</td>\n      <td>v</td>\n      <td>0.131579</td>\n      <td>t</td>\n      <td>t</td>\n      <td>5</td>\n      <td>g</td>\n      <td>0.00003</td>\n      <td>+</td>\n    </tr>\n    <tr>\n      <th>4</th>\n      <td>b</td>\n      <td>0.101905</td>\n      <td>0.200893</td>\n      <td>u</td>\n      <td>g</td>\n      <td>w</td>\n      <td>v</td>\n      <td>0.060000</td>\n      <td>t</td>\n      <td>f</td>\n      <td>0</td>\n      <td>s</td>\n      <td>0.00000</td>\n      <td>+</td>\n    </tr>\n    <tr>\n      <th>...</th>\n      <td>...</td>\n      <td>...</td>\n      <td>...</td>\n      <td>...</td>\n      <td>...</td>\n      <td>...</td>\n      <td>...</td>\n      <td>...</td>\n      <td>...</td>\n      <td>...</td>\n      <td>...</td>\n      <td>...</td>\n      <td>...</td>\n      <td>...</td>\n    </tr>\n    <tr>\n      <th>685</th>\n      <td>b</td>\n      <td>0.116349</td>\n      <td>0.360179</td>\n      <td>y</td>\n      <td>p</td>\n      <td>e</td>\n      <td>h</td>\n      <td>0.043860</td>\n      <td>f</td>\n      <td>f</td>\n      <td>0</td>\n      <td>g</td>\n      <td>0.00000</td>\n      <td>-</td>\n    </tr>\n    <tr>\n      <th>686</th>\n      <td>a</td>\n      <td>0.141587</td>\n      <td>0.026786</td>\n      <td>u</td>\n      <td>g</td>\n      <td>c</td>\n      <td>v</td>\n      <td>0.070175</td>\n      <td>f</td>\n      <td>t</td>\n      <td>2</td>\n      <td>g</td>\n      <td>0.00394</td>\n      <td>-</td>\n    </tr>\n    <tr>\n      <th>687</th>\n      <td>a</td>\n      <td>0.182540</td>\n      <td>0.482143</td>\n      <td>y</td>\n      <td>p</td>\n      <td>ff</td>\n      <td>ff</td>\n      <td>0.070175</td>\n      <td>f</td>\n      <td>t</td>\n      <td>1</td>\n      <td>g</td>\n      <td>0.00001</td>\n      <td>-</td>\n    </tr>\n    <tr>\n      <th>688</th>\n      <td>b</td>\n      <td>0.066190</td>\n      <td>0.007321</td>\n      <td>u</td>\n      <td>g</td>\n      <td>aa</td>\n      <td>v</td>\n      <td>0.001404</td>\n      <td>f</td>\n      <td>f</td>\n      <td>0</td>\n      <td>g</td>\n      <td>0.00750</td>\n      <td>-</td>\n    </tr>\n    <tr>\n      <th>689</th>\n      <td>b</td>\n      <td>0.337302</td>\n      <td>0.120536</td>\n      <td>u</td>\n      <td>g</td>\n      <td>c</td>\n      <td>h</td>\n      <td>0.290877</td>\n      <td>f</td>\n      <td>f</td>\n      <td>0</td>\n      <td>g</td>\n      <td>0.00000</td>\n      <td>-</td>\n    </tr>\n  </tbody>\n</table>\n<p>659 rows × 14 columns</p>\n</div>"
     },
     "execution_count": 61,
     "metadata": {},
     "output_type": "execute_result"
    }
   ],
   "source": [
    "df_imputation = df.copy()\n",
    "\n",
    "#Drop all rows with NaN\n",
    "df_imputation = df_imputation.drop(rows_to_test)\n",
    "df_imputation"
   ],
   "metadata": {
    "collapsed": false
   }
  },
  {
   "cell_type": "markdown",
   "source": [
    "### Gender Imputation"
   ],
   "metadata": {
    "collapsed": false
   }
  },
  {
   "cell_type": "code",
   "execution_count": 62,
   "outputs": [],
   "source": [
    "X_Gender = df_imputation.iloc[:, 1:15]\n",
    "y_Gender = df_imputation['Gender']\n",
    "\n",
    "le = preprocessing.LabelEncoder()\n",
    "y_Gender=le.fit_transform(y_Gender)\n",
    "\n",
    "#Create Logistic Regression Model to be implemented into pipeline\n",
    "LRgender = LogisticRegression(max_iter=500)\n",
    "\n",
    "#Transform columns for pipeline since some features are categorical\n",
    "Gender_transformation = make_column_transformer(\n",
    "    (OneHotEncoder(), ['Married', 'Bank_Customer', 'Education_Level', 'Ethnicity', 'Prior_Default','Employed','Citizen','Approved']),\n",
    "    remainder='passthrough')\n",
    "\n",
    "#Split into testing and training data\n",
    "X_train_Gender, X_test_Gender, y_train_Gender, y_test_Gender = train_test_split(X_Gender, y_Gender, test_size=0.3, random_state=0)"
   ],
   "metadata": {
    "collapsed": false
   }
  },
  {
   "cell_type": "markdown",
   "source": [
    "#### Pipelines are data pre-processing methods that handle categorical variable really well. This comes from sklearn package."
   ],
   "metadata": {
    "collapsed": false
   }
  },
  {
   "cell_type": "code",
   "execution_count": 63,
   "outputs": [
    {
     "data": {
      "text/plain": "Pipeline(steps=[('columntransformer',\n                 ColumnTransformer(remainder='passthrough',\n                                   transformers=[('onehotencoder',\n                                                  OneHotEncoder(),\n                                                  ['Married', 'Bank_Customer',\n                                                   'Education_Level',\n                                                   'Ethnicity', 'Prior_Default',\n                                                   'Employed', 'Citizen',\n                                                   'Approved'])])),\n                ('logisticregression', LogisticRegression(max_iter=500))])"
     },
     "execution_count": 63,
     "metadata": {},
     "output_type": "execute_result"
    }
   ],
   "source": [
    "pipe = make_pipeline(Gender_transformation, LRgender)\n",
    "pipe.fit(X_train_Gender,y_train_Gender)"
   ],
   "metadata": {
    "collapsed": false
   }
  },
  {
   "cell_type": "code",
   "execution_count": 64,
   "outputs": [
    {
     "data": {
      "text/plain": "    Gender       Age      Debt Married Bank_Customer Education_Level  \\\n248    NaN  0.170635  0.455357       u             g               c   \n327    NaN  0.429841  0.125000       u             g               i   \n346    NaN  0.293651  0.053571       u             g               c   \n374    NaN  0.228889  0.020893       u             g              aa   \n453    NaN  0.253968  0.023750       u             g               w   \n489    NaN  0.501270  0.035714       u             g               q   \n520    NaN  0.105873  0.267857       u             g               k   \n598    NaN  0.100476  0.004464       u             g               q   \n641    NaN  0.308254  0.080357       y             p              cc   \n673    NaN  0.250000  0.071429       y             p               e   \n\n    Ethnicity  Years_Employed Prior_Default Employed  Credit_Score Citizen  \\\n248        bb        0.166667             t        t             2       g   \n327        bb        0.017544             f        f             0       s   \n346         v        0.008772             f        f             0       g   \n374         v        0.001404             f        f             0       g   \n453         v        0.008772             f        f             0       g   \n489         v        0.004386             f        f             0       g   \n520         v        0.052632             t        t             1       g   \n598         v        0.035088             f        t             1       g   \n641         v        0.122807             f        f             0       g   \n673         h        0.070175             f        f             0       g   \n\n      Income Approved  \n248  0.00444        +  \n327  0.00000        -  \n346  0.00122        -  \n374  0.01004        -  \n453  0.00000        -  \n489  0.00000        -  \n520  0.00234        +  \n598  0.00768        +  \n641  0.00141        -  \n673  0.00017        -  ",
      "text/html": "<div>\n<style scoped>\n    .dataframe tbody tr th:only-of-type {\n        vertical-align: middle;\n    }\n\n    .dataframe tbody tr th {\n        vertical-align: top;\n    }\n\n    .dataframe thead th {\n        text-align: right;\n    }\n</style>\n<table border=\"1\" class=\"dataframe\">\n  <thead>\n    <tr style=\"text-align: right;\">\n      <th></th>\n      <th>Gender</th>\n      <th>Age</th>\n      <th>Debt</th>\n      <th>Married</th>\n      <th>Bank_Customer</th>\n      <th>Education_Level</th>\n      <th>Ethnicity</th>\n      <th>Years_Employed</th>\n      <th>Prior_Default</th>\n      <th>Employed</th>\n      <th>Credit_Score</th>\n      <th>Citizen</th>\n      <th>Income</th>\n      <th>Approved</th>\n    </tr>\n  </thead>\n  <tbody>\n    <tr>\n      <th>248</th>\n      <td>NaN</td>\n      <td>0.170635</td>\n      <td>0.455357</td>\n      <td>u</td>\n      <td>g</td>\n      <td>c</td>\n      <td>bb</td>\n      <td>0.166667</td>\n      <td>t</td>\n      <td>t</td>\n      <td>2</td>\n      <td>g</td>\n      <td>0.00444</td>\n      <td>+</td>\n    </tr>\n    <tr>\n      <th>327</th>\n      <td>NaN</td>\n      <td>0.429841</td>\n      <td>0.125000</td>\n      <td>u</td>\n      <td>g</td>\n      <td>i</td>\n      <td>bb</td>\n      <td>0.017544</td>\n      <td>f</td>\n      <td>f</td>\n      <td>0</td>\n      <td>s</td>\n      <td>0.00000</td>\n      <td>-</td>\n    </tr>\n    <tr>\n      <th>346</th>\n      <td>NaN</td>\n      <td>0.293651</td>\n      <td>0.053571</td>\n      <td>u</td>\n      <td>g</td>\n      <td>c</td>\n      <td>v</td>\n      <td>0.008772</td>\n      <td>f</td>\n      <td>f</td>\n      <td>0</td>\n      <td>g</td>\n      <td>0.00122</td>\n      <td>-</td>\n    </tr>\n    <tr>\n      <th>374</th>\n      <td>NaN</td>\n      <td>0.228889</td>\n      <td>0.020893</td>\n      <td>u</td>\n      <td>g</td>\n      <td>aa</td>\n      <td>v</td>\n      <td>0.001404</td>\n      <td>f</td>\n      <td>f</td>\n      <td>0</td>\n      <td>g</td>\n      <td>0.01004</td>\n      <td>-</td>\n    </tr>\n    <tr>\n      <th>453</th>\n      <td>NaN</td>\n      <td>0.253968</td>\n      <td>0.023750</td>\n      <td>u</td>\n      <td>g</td>\n      <td>w</td>\n      <td>v</td>\n      <td>0.008772</td>\n      <td>f</td>\n      <td>f</td>\n      <td>0</td>\n      <td>g</td>\n      <td>0.00000</td>\n      <td>-</td>\n    </tr>\n    <tr>\n      <th>489</th>\n      <td>NaN</td>\n      <td>0.501270</td>\n      <td>0.035714</td>\n      <td>u</td>\n      <td>g</td>\n      <td>q</td>\n      <td>v</td>\n      <td>0.004386</td>\n      <td>f</td>\n      <td>f</td>\n      <td>0</td>\n      <td>g</td>\n      <td>0.00000</td>\n      <td>-</td>\n    </tr>\n    <tr>\n      <th>520</th>\n      <td>NaN</td>\n      <td>0.105873</td>\n      <td>0.267857</td>\n      <td>u</td>\n      <td>g</td>\n      <td>k</td>\n      <td>v</td>\n      <td>0.052632</td>\n      <td>t</td>\n      <td>t</td>\n      <td>1</td>\n      <td>g</td>\n      <td>0.00234</td>\n      <td>+</td>\n    </tr>\n    <tr>\n      <th>598</th>\n      <td>NaN</td>\n      <td>0.100476</td>\n      <td>0.004464</td>\n      <td>u</td>\n      <td>g</td>\n      <td>q</td>\n      <td>v</td>\n      <td>0.035088</td>\n      <td>f</td>\n      <td>t</td>\n      <td>1</td>\n      <td>g</td>\n      <td>0.00768</td>\n      <td>+</td>\n    </tr>\n    <tr>\n      <th>641</th>\n      <td>NaN</td>\n      <td>0.308254</td>\n      <td>0.080357</td>\n      <td>y</td>\n      <td>p</td>\n      <td>cc</td>\n      <td>v</td>\n      <td>0.122807</td>\n      <td>f</td>\n      <td>f</td>\n      <td>0</td>\n      <td>g</td>\n      <td>0.00141</td>\n      <td>-</td>\n    </tr>\n    <tr>\n      <th>673</th>\n      <td>NaN</td>\n      <td>0.250000</td>\n      <td>0.071429</td>\n      <td>y</td>\n      <td>p</td>\n      <td>e</td>\n      <td>h</td>\n      <td>0.070175</td>\n      <td>f</td>\n      <td>f</td>\n      <td>0</td>\n      <td>g</td>\n      <td>0.00017</td>\n      <td>-</td>\n    </tr>\n  </tbody>\n</table>\n</div>"
     },
     "execution_count": 64,
     "metadata": {},
     "output_type": "execute_result"
    }
   ],
   "source": [
    "missing_gender = df[df['Gender'].isin([np.nan])]\n",
    "missing_gender"
   ],
   "metadata": {
    "collapsed": false
   }
  },
  {
   "cell_type": "code",
   "execution_count": 65,
   "outputs": [
    {
     "data": {
      "text/plain": "248    b\n327    b\n346    b\n374    b\n453    b\n489    a\n520    b\n598    a\n641    b\n673    b\nName: Gender, dtype: object"
     },
     "execution_count": 65,
     "metadata": {},
     "output_type": "execute_result"
    }
   ],
   "source": [
    "missing_gender=missing_gender.drop(columns=['Gender'])\n",
    "missing_gender['Gender']=pipe.predict(missing_gender)\n",
    "\n",
    "#b is 1 a is 0\n",
    "missing_gender['Gender'] = np.where(missing_gender['Gender']==0, 'a', 'b')\n",
    "missing_gender['Gender']"
   ],
   "metadata": {
    "collapsed": false
   }
  },
  {
   "cell_type": "code",
   "execution_count": 66,
   "outputs": [],
   "source": [
    "#Update original dataframe with predicted values\n",
    "df.update(missing_gender)"
   ],
   "metadata": {
    "collapsed": false
   }
  },
  {
   "cell_type": "markdown",
   "source": [
    "### Age Imputation"
   ],
   "metadata": {
    "collapsed": false
   }
  },
  {
   "cell_type": "code",
   "execution_count": 67,
   "outputs": [
    {
     "data": {
      "text/plain": "    Gender  Age      Debt Married Bank_Customer Education_Level Ethnicity  \\\n83       a  NaN  0.125000       u             g               d         v   \n86       b  NaN  0.013393       u             g               d         v   \n92       b  NaN  0.178571       y             p              aa         v   \n97       b  NaN  0.017857       u             g               c        bb   \n254      b  NaN  0.022321       u             g               k         v   \n286      a  NaN  0.053571       u             g              ff        ff   \n329      b  NaN  0.142857       y             p               i         v   \n445      a  NaN  0.401786       u             g              ff        ff   \n450      b  NaN  0.107143       y             p               i        bb   \n500      b  NaN  0.142857       u             g               x         v   \n515      b  NaN  0.375000       u             g               x         v   \n608      b  NaN  0.001429       y             p               d         v   \n\n     Years_Employed Prior_Default Employed  Credit_Score Citizen   Income  \\\n83         0.105263             t        f           0.0       g  0.00000   \n86         0.030702             t        f           0.0       s  0.00000   \n92         0.298246             t        f           0.0       g  0.00000   \n97         0.029298             t        f           0.0       s  0.00000   \n254        0.008772             f        f           0.0       g  0.02010   \n286        0.000000             f        t           2.0       g  0.00105   \n329        0.002982             f        f           0.0       g  0.00000   \n445        0.000000             f        f           0.0       g  0.05200   \n450        0.245614             f        f           0.0       g  0.00001   \n500        0.175439             t        t           3.0       g  0.02279   \n515        0.228070             t        f           0.0       g  0.00000   \n608        0.149123             f        f           0.0       g  0.00000   \n\n    Approved  \n83         -  \n86         -  \n92         -  \n97         -  \n254        -  \n286        -  \n329        -  \n445        -  \n450        -  \n500        +  \n515        +  \n608        -  ",
      "text/html": "<div>\n<style scoped>\n    .dataframe tbody tr th:only-of-type {\n        vertical-align: middle;\n    }\n\n    .dataframe tbody tr th {\n        vertical-align: top;\n    }\n\n    .dataframe thead th {\n        text-align: right;\n    }\n</style>\n<table border=\"1\" class=\"dataframe\">\n  <thead>\n    <tr style=\"text-align: right;\">\n      <th></th>\n      <th>Gender</th>\n      <th>Age</th>\n      <th>Debt</th>\n      <th>Married</th>\n      <th>Bank_Customer</th>\n      <th>Education_Level</th>\n      <th>Ethnicity</th>\n      <th>Years_Employed</th>\n      <th>Prior_Default</th>\n      <th>Employed</th>\n      <th>Credit_Score</th>\n      <th>Citizen</th>\n      <th>Income</th>\n      <th>Approved</th>\n    </tr>\n  </thead>\n  <tbody>\n    <tr>\n      <th>83</th>\n      <td>a</td>\n      <td>NaN</td>\n      <td>0.125000</td>\n      <td>u</td>\n      <td>g</td>\n      <td>d</td>\n      <td>v</td>\n      <td>0.105263</td>\n      <td>t</td>\n      <td>f</td>\n      <td>0.0</td>\n      <td>g</td>\n      <td>0.00000</td>\n      <td>-</td>\n    </tr>\n    <tr>\n      <th>86</th>\n      <td>b</td>\n      <td>NaN</td>\n      <td>0.013393</td>\n      <td>u</td>\n      <td>g</td>\n      <td>d</td>\n      <td>v</td>\n      <td>0.030702</td>\n      <td>t</td>\n      <td>f</td>\n      <td>0.0</td>\n      <td>s</td>\n      <td>0.00000</td>\n      <td>-</td>\n    </tr>\n    <tr>\n      <th>92</th>\n      <td>b</td>\n      <td>NaN</td>\n      <td>0.178571</td>\n      <td>y</td>\n      <td>p</td>\n      <td>aa</td>\n      <td>v</td>\n      <td>0.298246</td>\n      <td>t</td>\n      <td>f</td>\n      <td>0.0</td>\n      <td>g</td>\n      <td>0.00000</td>\n      <td>-</td>\n    </tr>\n    <tr>\n      <th>97</th>\n      <td>b</td>\n      <td>NaN</td>\n      <td>0.017857</td>\n      <td>u</td>\n      <td>g</td>\n      <td>c</td>\n      <td>bb</td>\n      <td>0.029298</td>\n      <td>t</td>\n      <td>f</td>\n      <td>0.0</td>\n      <td>s</td>\n      <td>0.00000</td>\n      <td>-</td>\n    </tr>\n    <tr>\n      <th>254</th>\n      <td>b</td>\n      <td>NaN</td>\n      <td>0.022321</td>\n      <td>u</td>\n      <td>g</td>\n      <td>k</td>\n      <td>v</td>\n      <td>0.008772</td>\n      <td>f</td>\n      <td>f</td>\n      <td>0.0</td>\n      <td>g</td>\n      <td>0.02010</td>\n      <td>-</td>\n    </tr>\n    <tr>\n      <th>286</th>\n      <td>a</td>\n      <td>NaN</td>\n      <td>0.053571</td>\n      <td>u</td>\n      <td>g</td>\n      <td>ff</td>\n      <td>ff</td>\n      <td>0.000000</td>\n      <td>f</td>\n      <td>t</td>\n      <td>2.0</td>\n      <td>g</td>\n      <td>0.00105</td>\n      <td>-</td>\n    </tr>\n    <tr>\n      <th>329</th>\n      <td>b</td>\n      <td>NaN</td>\n      <td>0.142857</td>\n      <td>y</td>\n      <td>p</td>\n      <td>i</td>\n      <td>v</td>\n      <td>0.002982</td>\n      <td>f</td>\n      <td>f</td>\n      <td>0.0</td>\n      <td>g</td>\n      <td>0.00000</td>\n      <td>-</td>\n    </tr>\n    <tr>\n      <th>445</th>\n      <td>a</td>\n      <td>NaN</td>\n      <td>0.401786</td>\n      <td>u</td>\n      <td>g</td>\n      <td>ff</td>\n      <td>ff</td>\n      <td>0.000000</td>\n      <td>f</td>\n      <td>f</td>\n      <td>0.0</td>\n      <td>g</td>\n      <td>0.05200</td>\n      <td>-</td>\n    </tr>\n    <tr>\n      <th>450</th>\n      <td>b</td>\n      <td>NaN</td>\n      <td>0.107143</td>\n      <td>y</td>\n      <td>p</td>\n      <td>i</td>\n      <td>bb</td>\n      <td>0.245614</td>\n      <td>f</td>\n      <td>f</td>\n      <td>0.0</td>\n      <td>g</td>\n      <td>0.00001</td>\n      <td>-</td>\n    </tr>\n    <tr>\n      <th>500</th>\n      <td>b</td>\n      <td>NaN</td>\n      <td>0.142857</td>\n      <td>u</td>\n      <td>g</td>\n      <td>x</td>\n      <td>v</td>\n      <td>0.175439</td>\n      <td>t</td>\n      <td>t</td>\n      <td>3.0</td>\n      <td>g</td>\n      <td>0.02279</td>\n      <td>+</td>\n    </tr>\n    <tr>\n      <th>515</th>\n      <td>b</td>\n      <td>NaN</td>\n      <td>0.375000</td>\n      <td>u</td>\n      <td>g</td>\n      <td>x</td>\n      <td>v</td>\n      <td>0.228070</td>\n      <td>t</td>\n      <td>f</td>\n      <td>0.0</td>\n      <td>g</td>\n      <td>0.00000</td>\n      <td>+</td>\n    </tr>\n    <tr>\n      <th>608</th>\n      <td>b</td>\n      <td>NaN</td>\n      <td>0.001429</td>\n      <td>y</td>\n      <td>p</td>\n      <td>d</td>\n      <td>v</td>\n      <td>0.149123</td>\n      <td>f</td>\n      <td>f</td>\n      <td>0.0</td>\n      <td>g</td>\n      <td>0.00000</td>\n      <td>-</td>\n    </tr>\n  </tbody>\n</table>\n</div>"
     },
     "execution_count": 67,
     "metadata": {},
     "output_type": "execute_result"
    }
   ],
   "source": [
    "missing_age = df[df['Age'].isin([np.nan])]\n",
    "missing_age"
   ],
   "metadata": {
    "collapsed": false
   }
  },
  {
   "cell_type": "code",
   "execution_count": 68,
   "outputs": [
    {
     "data": {
      "text/plain": "    Gender       Age      Debt Married Bank_Customer Education_Level  \\\n0        b  0.271111  0.000000       u             g               w   \n1        a  0.713016  0.159286       u             g               q   \n2        a  0.170635  0.017857       u             g               q   \n3        b  0.223492  0.055000       u             g               w   \n4        b  0.101905  0.200893       u             g               w   \n..     ...       ...       ...     ...           ...             ...   \n685      b  0.116349  0.360179       y             p               e   \n686      a  0.141587  0.026786       u             g               c   \n687      a  0.182540  0.482143       y             p              ff   \n688      b  0.066190  0.007321       u             g              aa   \n689      b  0.337302  0.120536       u             g               c   \n\n    Ethnicity  Years_Employed Prior_Default Employed  Credit_Score Citizen  \\\n0           v        0.043860             t        t           1.0       g   \n1           h        0.106667             t        t           6.0       g   \n2           h        0.052632             t        f           0.0       g   \n3           v        0.131579             t        t           5.0       g   \n4           v        0.060000             t        f           0.0       s   \n..        ...             ...           ...      ...           ...     ...   \n685         h        0.043860             f        f           0.0       g   \n686         v        0.070175             f        t           2.0       g   \n687        ff        0.070175             f        t           1.0       g   \n688         v        0.001404             f        f           0.0       g   \n689         h        0.290877             f        f           0.0       g   \n\n      Income Approved  \n0    0.00000        +  \n1    0.00560        +  \n2    0.00824        +  \n3    0.00003        +  \n4    0.00000        +  \n..       ...      ...  \n685  0.00000        -  \n686  0.00394        -  \n687  0.00001        -  \n688  0.00750        -  \n689  0.00000        -  \n\n[669 rows x 14 columns]",
      "text/html": "<div>\n<style scoped>\n    .dataframe tbody tr th:only-of-type {\n        vertical-align: middle;\n    }\n\n    .dataframe tbody tr th {\n        vertical-align: top;\n    }\n\n    .dataframe thead th {\n        text-align: right;\n    }\n</style>\n<table border=\"1\" class=\"dataframe\">\n  <thead>\n    <tr style=\"text-align: right;\">\n      <th></th>\n      <th>Gender</th>\n      <th>Age</th>\n      <th>Debt</th>\n      <th>Married</th>\n      <th>Bank_Customer</th>\n      <th>Education_Level</th>\n      <th>Ethnicity</th>\n      <th>Years_Employed</th>\n      <th>Prior_Default</th>\n      <th>Employed</th>\n      <th>Credit_Score</th>\n      <th>Citizen</th>\n      <th>Income</th>\n      <th>Approved</th>\n    </tr>\n  </thead>\n  <tbody>\n    <tr>\n      <th>0</th>\n      <td>b</td>\n      <td>0.271111</td>\n      <td>0.000000</td>\n      <td>u</td>\n      <td>g</td>\n      <td>w</td>\n      <td>v</td>\n      <td>0.043860</td>\n      <td>t</td>\n      <td>t</td>\n      <td>1.0</td>\n      <td>g</td>\n      <td>0.00000</td>\n      <td>+</td>\n    </tr>\n    <tr>\n      <th>1</th>\n      <td>a</td>\n      <td>0.713016</td>\n      <td>0.159286</td>\n      <td>u</td>\n      <td>g</td>\n      <td>q</td>\n      <td>h</td>\n      <td>0.106667</td>\n      <td>t</td>\n      <td>t</td>\n      <td>6.0</td>\n      <td>g</td>\n      <td>0.00560</td>\n      <td>+</td>\n    </tr>\n    <tr>\n      <th>2</th>\n      <td>a</td>\n      <td>0.170635</td>\n      <td>0.017857</td>\n      <td>u</td>\n      <td>g</td>\n      <td>q</td>\n      <td>h</td>\n      <td>0.052632</td>\n      <td>t</td>\n      <td>f</td>\n      <td>0.0</td>\n      <td>g</td>\n      <td>0.00824</td>\n      <td>+</td>\n    </tr>\n    <tr>\n      <th>3</th>\n      <td>b</td>\n      <td>0.223492</td>\n      <td>0.055000</td>\n      <td>u</td>\n      <td>g</td>\n      <td>w</td>\n      <td>v</td>\n      <td>0.131579</td>\n      <td>t</td>\n      <td>t</td>\n      <td>5.0</td>\n      <td>g</td>\n      <td>0.00003</td>\n      <td>+</td>\n    </tr>\n    <tr>\n      <th>4</th>\n      <td>b</td>\n      <td>0.101905</td>\n      <td>0.200893</td>\n      <td>u</td>\n      <td>g</td>\n      <td>w</td>\n      <td>v</td>\n      <td>0.060000</td>\n      <td>t</td>\n      <td>f</td>\n      <td>0.0</td>\n      <td>s</td>\n      <td>0.00000</td>\n      <td>+</td>\n    </tr>\n    <tr>\n      <th>...</th>\n      <td>...</td>\n      <td>...</td>\n      <td>...</td>\n      <td>...</td>\n      <td>...</td>\n      <td>...</td>\n      <td>...</td>\n      <td>...</td>\n      <td>...</td>\n      <td>...</td>\n      <td>...</td>\n      <td>...</td>\n      <td>...</td>\n      <td>...</td>\n    </tr>\n    <tr>\n      <th>685</th>\n      <td>b</td>\n      <td>0.116349</td>\n      <td>0.360179</td>\n      <td>y</td>\n      <td>p</td>\n      <td>e</td>\n      <td>h</td>\n      <td>0.043860</td>\n      <td>f</td>\n      <td>f</td>\n      <td>0.0</td>\n      <td>g</td>\n      <td>0.00000</td>\n      <td>-</td>\n    </tr>\n    <tr>\n      <th>686</th>\n      <td>a</td>\n      <td>0.141587</td>\n      <td>0.026786</td>\n      <td>u</td>\n      <td>g</td>\n      <td>c</td>\n      <td>v</td>\n      <td>0.070175</td>\n      <td>f</td>\n      <td>t</td>\n      <td>2.0</td>\n      <td>g</td>\n      <td>0.00394</td>\n      <td>-</td>\n    </tr>\n    <tr>\n      <th>687</th>\n      <td>a</td>\n      <td>0.182540</td>\n      <td>0.482143</td>\n      <td>y</td>\n      <td>p</td>\n      <td>ff</td>\n      <td>ff</td>\n      <td>0.070175</td>\n      <td>f</td>\n      <td>t</td>\n      <td>1.0</td>\n      <td>g</td>\n      <td>0.00001</td>\n      <td>-</td>\n    </tr>\n    <tr>\n      <th>688</th>\n      <td>b</td>\n      <td>0.066190</td>\n      <td>0.007321</td>\n      <td>u</td>\n      <td>g</td>\n      <td>aa</td>\n      <td>v</td>\n      <td>0.001404</td>\n      <td>f</td>\n      <td>f</td>\n      <td>0.0</td>\n      <td>g</td>\n      <td>0.00750</td>\n      <td>-</td>\n    </tr>\n    <tr>\n      <th>689</th>\n      <td>b</td>\n      <td>0.337302</td>\n      <td>0.120536</td>\n      <td>u</td>\n      <td>g</td>\n      <td>c</td>\n      <td>h</td>\n      <td>0.290877</td>\n      <td>f</td>\n      <td>f</td>\n      <td>0.0</td>\n      <td>g</td>\n      <td>0.00000</td>\n      <td>-</td>\n    </tr>\n  </tbody>\n</table>\n<p>669 rows × 14 columns</p>\n</div>"
     },
     "execution_count": 68,
     "metadata": {},
     "output_type": "execute_result"
    }
   ],
   "source": [
    "df_imputation = df.copy()\n",
    "#Drop all rows with NaN\n",
    "df_imputation = df_imputation.drop(list(missing_age.index))\n",
    "df_imputation"
   ],
   "metadata": {
    "collapsed": false
   }
  },
  {
   "cell_type": "code",
   "execution_count": 69,
   "outputs": [
    {
     "name": "stdout",
     "output_type": "stream",
     "text": [
      "Training R-Squared: 0.36668989483609504\n",
      "Testing R-Squared: 0.0978023243339422\n"
     ]
    }
   ],
   "source": [
    "X_Age=df_imputation.iloc[:, 0:15]\n",
    "X_Age=X_Age.drop(columns=['Age'])\n",
    "\n",
    "y_Age = df_imputation['Age']\n",
    "\n",
    "#Create Ridge Regression Model to be implemented into pipeline\n",
    "RidgeReg = Ridge()\n",
    "\n",
    "#create pipeline since some features are categorical\n",
    "Age_transformation = make_column_transformer(\n",
    "    (OneHotEncoder(), ['Gender','Married', 'Bank_Customer', 'Education_Level', 'Ethnicity', 'Prior_Default','Employed','Citizen','Approved']),\n",
    "    remainder='passthrough')\n",
    "\n",
    "pipe = make_pipeline(Age_transformation, RidgeReg)\n",
    "\n",
    "X_train_Age, X_test_Age, y_train_Age, y_test_Age = train_test_split(X_Age, y_Age, test_size=0.3, random_state=0)\n",
    "\n",
    "pipe.fit(X_train_Age,y_train_Age)\n",
    "\n",
    "y_train_pred = pipe.predict(X_train_Age)\n",
    "y_test_pred = pipe.predict(X_test_Age)\n",
    "\n",
    "print(f'Training R-Squared: {r2_score(y_train_Age, y_train_pred)}')\n",
    "print(f'Testing R-Squared: {r2_score(y_test_Age, y_test_pred)}')"
   ],
   "metadata": {
    "collapsed": false
   }
  },
  {
   "cell_type": "code",
   "execution_count": 70,
   "outputs": [
    {
     "data": {
      "text/plain": "83     0.301138\n86     0.263251\n92     0.318932\n97     0.330229\n254    0.233621\n286    0.387612\n329    0.187410\n445    0.442812\n450    0.372165\n500    0.307485\n515    0.376346\n608    0.243625\nName: Age, dtype: float64"
     },
     "execution_count": 70,
     "metadata": {},
     "output_type": "execute_result"
    }
   ],
   "source": [
    "missing_age=missing_age.drop(columns=['Age'])\n",
    "missing_age['Age']=pipe.predict(missing_age)\n",
    "missing_age['Age']"
   ],
   "metadata": {
    "collapsed": false
   }
  },
  {
   "cell_type": "code",
   "execution_count": 71,
   "outputs": [],
   "source": [
    "#Update original dataframe with predicted values\n",
    "df.update(missing_age)"
   ],
   "metadata": {
    "collapsed": false
   }
  },
  {
   "cell_type": "markdown",
   "source": [
    "# The dataframe is ready for analysis. A total of 23 data points were saved using imputation. Various models will be used to compare the efficiency of predicting credit approval. The models used will be:\n",
    " * ### K Nearest Neighbors\n",
    " * ### Support Vector Machine\n",
    " * ### Logistic Regression"
   ],
   "metadata": {
    "collapsed": false
   }
  },
  {
   "cell_type": "markdown",
   "source": [
    "#### KNN"
   ],
   "metadata": {
    "collapsed": false
   }
  },
  {
   "cell_type": "code",
   "execution_count": 72,
   "outputs": [
    {
     "data": {
      "text/plain": "[Text(0.5, 1.0, 'Accuracy with K number of nearest neighbors')]"
     },
     "execution_count": 72,
     "metadata": {},
     "output_type": "execute_result"
    },
    {
     "data": {
      "text/plain": "<Figure size 640x480 with 1 Axes>",
      "image/png": "[encoded data removed]"
     },
     "metadata": {},
     "output_type": "display_data"
    }
   ],
   "source": [
    "df_KNN = df.copy()\n",
    "\n",
    "df_KNN['Approved'] = np.where(df_KNN.Approved == '+', 1, 0)\n",
    "\n",
    "X_KNN = df_KNN.drop(columns=['Approved'])\n",
    "\n",
    "y_KNN = df_KNN['Approved']\n",
    "\n",
    "#Create KNN Model to be implemented into pipeline\n",
    "\n",
    "knn_x_values = []\n",
    "knn_y_values = []\n",
    "\n",
    "for i in range(1,31):\n",
    "\n",
    "    knn = KNeighborsClassifier(n_neighbors=i)\n",
    "\n",
    "    #create pipeline since some features are categorical\n",
    "    KNN_transformation = make_column_transformer(\n",
    "        (OneHotEncoder(), ['Gender','Married', 'Bank_Customer', 'Education_Level', 'Ethnicity', 'Prior_Default','Employed','Citizen']),\n",
    "        remainder='passthrough')\n",
    "\n",
    "    pipe = make_pipeline(KNN_transformation, knn)\n",
    "\n",
    "    X_train_KNN, X_test_KNN, y_train_KNN, y_test_KNN = train_test_split(X_KNN, y_KNN, test_size=0.3, random_state=0)\n",
    "\n",
    "    pipe.fit(X_train_KNN,y_train_KNN)\n",
    "\n",
    "    predicted = pipe.predict(X_test_KNN)\n",
    "\n",
    "    acc = metrics.accuracy_score(y_test_KNN, predicted)\n",
    "    knn_x_values.append(i)\n",
    "    knn_y_values.append(acc)\n",
    "\n",
    "sns.scatterplot(x=knn_x_values, y=knn_y_values).set(title='Accuracy with K number of nearest neighbors')\n"
   ],
   "metadata": {
    "collapsed": false
   }
  },
  {
   "cell_type": "code",
   "execution_count": 73,
   "outputs": [
    {
     "data": {
      "text/plain": "0.8536585365853658"
     },
     "execution_count": 73,
     "metadata": {},
     "output_type": "execute_result"
    }
   ],
   "source": [
    "knn_y_values[13] # k of 14"
   ],
   "metadata": {
    "collapsed": false
   }
  },
  {
   "cell_type": "code",
   "execution_count": 73,
   "outputs": [],
   "source": [],
   "metadata": {
    "collapsed": false
   }
  }
 ],
 "metadata": {
  "kernelspec": {
   "display_name": "Python 3",
   "language": "python",
   "name": "python3"
  },
  "language_info": {
   "codemirror_mode": {
    "name": "ipython",
    "version": 2
   },
   "file_extension": ".py",
   "mimetype": "text/x-python",
   "name": "python",
   "nbconvert_exporter": "python",
   "pygments_lexer": "ipython2",
   "version": "2.7.6"
  }
 },
 "nbformat": 4,
 "nbformat_minor": 0
}
